{
 "cells": [
  {
   "cell_type": "markdown",
   "metadata": {},
   "source": [
    "# Ex sheet 2: convergence of random variables"
   ]
  },
  {
   "cell_type": "code",
   "execution_count": null,
   "metadata": {},
   "outputs": [],
   "source": [
    "import math\n",
    "import numpy as np\n",
    "import matplotlib.pyplot as plt\n",
    "import numpy.random as rd"
   ]
  },
  {
   "cell_type": "markdown",
   "metadata": {},
   "source": [
    "## The coupon collector problem"
   ]
  },
  {
   "cell_type": "code",
   "execution_count": null,
   "metadata": {},
   "outputs": [],
   "source": [
    "# Define the coupon collector with K coupons: T is the number of trials\n",
    "def coupons(K=1):\n",
    "    collection = np.zeros(K)\n",
    "    Nbcoll = 0\n",
    "    T = 0\n",
    "    while Nbcoll < K:\n",
    "        T += 1\n",
    "        U = rd.randint(0,K)\n",
    "        if collection[U] == 0:\n",
    "                collection[U] = 1\n",
    "                Nbcoll += 1\n",
    "    return T\n",
    "\n",
    "# Sample N i.i.d. experiments\n",
    "def sample_coupons(K=1,N=1):\n",
    "    T=np.zeros(N)\n",
    "    for i in range(N):\n",
    "        T[i]=coupons(K)\n",
    "    return T"
   ]
  },
  {
   "cell_type": "code",
   "execution_count": null,
   "metadata": {},
   "outputs": [],
   "source": [
    "# Sample one coupon problem\n",
    "K=1000\n",
    "T=coupons(K)\n",
    "T"
   ]
  },
  {
   "cell_type": "code",
   "execution_count": null,
   "metadata": {},
   "outputs": [],
   "source": [
    "# Theory says T ~ K*log K\n",
    "theory=K*np.log(K)\n",
    "theory"
   ]
  },
  {
   "cell_type": "code",
   "execution_count": null,
   "metadata": {},
   "outputs": [],
   "source": [
    "# Average number of trials over N experiments\n",
    "# Very long to run!\n",
    "N=5000\n",
    "S=sample_coupons(K,N)\n",
    "np.mean(S)"
   ]
  },
  {
   "cell_type": "code",
   "execution_count": null,
   "metadata": {},
   "outputs": [],
   "source": [
    "# plot of the values of the times T for each trial in the N experiments\n",
    "plt.figure(figsize=(15,5))\n",
    "plt.plot(S, label=\"sample\")\n",
    "plt.axhline(y = theory, color = 'r', linestyle = 'dashed', label = \"theoretical value = %i\" %theory)    \n",
    "plt.title(\"Coupon collector with %i coupons\" %K)\n",
    "plt.ylabel(\"number of trials\")\n",
    "plt.xlabel(\"experiments\")\n",
    "plt.legend()\n",
    "plt.show()"
   ]
  },
  {
   "cell_type": "code",
   "execution_count": null,
   "metadata": {},
   "outputs": [],
   "source": [
    "# plot the normalised values of the times for each trial\n",
    "renormS=(S-theory)/K\n",
    "\n",
    "plt.figure(figsize=(15,5))\n",
    "plt.plot(renormS, label=\"normalised sample\")\n",
    "plt.axhline(y = 0, color = 'r', linestyle = 'dashed', label = \"theoretical value = 0\")    \n",
    "plt.title(\"Normalised coupon collector with %i coupons\" %K)\n",
    "plt.ylabel(\"number of trials\")\n",
    "plt.xlabel(\"experiments\")\n",
    "plt.legend()\n",
    "plt.show()"
   ]
  },
  {
   "cell_type": "code",
   "execution_count": null,
   "metadata": {
    "scrolled": false
   },
   "outputs": [],
   "source": [
    "# Define the Gumbel density\n",
    "def Gumbel_density(x):\n",
    "    return np.exp(-(x+np.exp(-x)))\n",
    "\n",
    "xs = np.linspace(-5, 10, 1000)\n",
    "ys = Gumbel_density(xs)\n",
    "\n",
    "plt.figure(figsize=(16,6))\n",
    "plt.title(\"Histogram of the normalised coupon collector with %i coupons and the Gumbel distribution\" %K)\n",
    "plt.plot(xs, ys, label=\"Gumbel density : exp(-(x+exp(-x)))\") \n",
    "plt.fill_between(xs, ys, 0)\n",
    "plt.hist(renormS, bins=50, density=True, label=\"normalised sample\")\n",
    "plt.legend()\n",
    "plt.show()"
   ]
  },
  {
   "cell_type": "markdown",
   "metadata": {},
   "source": [
    "## Estimators of the right edge of a uniform law"
   ]
  },
  {
   "cell_type": "code",
   "execution_count": null,
   "metadata": {},
   "outputs": [],
   "source": [
    "# Define Ntrial copies of two estimators of theta using nsample i.i.d uniform(0,theta)\n",
    "\n",
    "def estim(theta, nsample=1, Ntrial=1):\n",
    "    arr=np.zeros((2,Ntrial))\n",
    "    U=rd.uniform(low=0,high=theta,size=(Ntrial,nsample))\n",
    "    arr[0] = 2*np.sum(U,axis=1)/nsample\n",
    "    arr[1] = (nsample+1)*np.max(U,axis=1)/nsample\n",
    "    return arr"
   ]
  },
  {
   "cell_type": "code",
   "execution_count": null,
   "metadata": {},
   "outputs": [],
   "source": [
    "theta=1\n",
    "Ntrial=50000\n",
    "nsample=5000\n",
    "est=estim(theta, nsample, Ntrial)\n",
    "estsum=est[0]\n",
    "estmax=est[1]"
   ]
  },
  {
   "cell_type": "code",
   "execution_count": null,
   "metadata": {},
   "outputs": [],
   "source": [
    "# Histogram of the two estimators\n",
    "plt.figure(figsize=(14,6))\n",
    "plt.title(\"Histogram of the two estimators\")\n",
    "plt.hist(estsum, bins=100, label=\"Sum estimator\")\n",
    "plt.hist(estmax, bins=10, density=True, label=\"Max estimator\")\n",
    "plt.legend();"
   ]
  },
  {
   "cell_type": "code",
   "execution_count": null,
   "metadata": {},
   "outputs": [],
   "source": [
    "# plot of the values of the two estimators over the trials\n",
    "plt.figure(figsize=(14,8))\n",
    "plt.title(\"Values of the two estimators\")\n",
    "plt.plot(estsum, label='Sum estimator')\n",
    "plt.plot(estmax, label='Max estimator')\n",
    "plt.axhline(y = 1, color = 'r', linestyle = 'dashed', label = \"estimated parameter = 1\")    \n",
    "plt.legend()\n",
    "plt.ylabel(\"value\")\n",
    "plt.xlabel(\"trials\")\n",
    "plt.show()"
   ]
  },
  {
   "cell_type": "code",
   "execution_count": null,
   "metadata": {},
   "outputs": [],
   "source": [
    "# normalised values\n",
    "renormestsum=np.sqrt(3*nsample)*(estsum-theta)/theta\n",
    "renormestmax=np.sqrt(nsample*(nsample+2))*(estmax-theta)/theta"
   ]
  },
  {
   "cell_type": "code",
   "execution_count": null,
   "metadata": {},
   "outputs": [],
   "source": [
    "# plot the normalised values\n",
    "plt.figure(figsize=(14,8))\n",
    "plt.title(\"Normalised values of the two estimators\")\n",
    "plt.plot(renormestsum, label='Sum estimator')\n",
    "plt.plot(renormestmax, label='Max estimator')\n",
    "plt.axhline(y = 0, color = 'r', linestyle = 'dashed')    \n",
    "plt.legend()\n",
    "plt.ylabel(\"value\")\n",
    "plt.xlabel(\"trials\")\n",
    "plt.show()"
   ]
  },
  {
   "cell_type": "code",
   "execution_count": null,
   "metadata": {
    "scrolled": true
   },
   "outputs": [],
   "source": [
    "# normalised histograms\n",
    "plt.figure(figsize=(14,8))\n",
    "plt.hist(renormestsum, bins=100, density=True, label=\"Sum estimator\")\n",
    "plt.hist(renormestmax, bins=100, density=True, label=\"Max estimator\")\n",
    "plt.axvline(x = 0, color = 'r', linestyle = 'dashed', label = \"Mean value\")    \n",
    "plt.legend()\n",
    "plt.show()"
   ]
  },
  {
   "cell_type": "code",
   "execution_count": null,
   "metadata": {},
   "outputs": [],
   "source": [
    "# Compare the sum estimator with the Gaussian density\n",
    "def gaussian(x):\n",
    "    return 1/math.sqrt(2*math.pi)*np.exp(-x**2/2)\n",
    "\n",
    "xs = np.linspace(-5, 5, 1000)\n",
    "ys = gaussian(xs)\n",
    "\n",
    "plt.figure(figsize=(12,6))\n",
    "plt.hist(renormestsum, bins=100, density=True, label=\"Sum estimator\")\n",
    "plt.plot(xs, ys, label=\"Gaussian density\") \n",
    "\n",
    "plt.legend()\n",
    "plt.show()"
   ]
  },
  {
   "cell_type": "code",
   "execution_count": null,
   "metadata": {},
   "outputs": [],
   "source": [
    "# Compare the max estimator with 1-X where X is exponentially distributed\n",
    "def gaussian(x):\n",
    "    return 1/math.sqrt(2*math.pi)*np.exp(-x**2/2)\n",
    "\n",
    "xs = np.linspace(-8, 1, 1000)\n",
    "ys = np.exp(-(1-xs))\n",
    "\n",
    "plt.figure(figsize=(12,6))\n",
    "plt.plot(xs, ys, label=\"1 - Exponential\") \n",
    "plt.hist(renormestmax, bins=100, density=True, label=\"Max estimator\")\n",
    "\n",
    "plt.legend()\n",
    "plt.show()"
   ]
  },
  {
   "cell_type": "markdown",
   "metadata": {},
   "source": [
    "## Exponential of Gaussian r.v.'s"
   ]
  },
  {
   "cell_type": "code",
   "execution_count": null,
   "metadata": {},
   "outputs": [],
   "source": [
    "# Sample N trajectories of a(X_1+...+X_n)-bn\n",
    "def Gauss(a,b,N,n):\n",
    "    X=rd.normal(0,1,size=(N,n))\n",
    "    return np.cumsum(a*X-b,axis=1)"
   ]
  },
  {
   "cell_type": "code",
   "execution_count": null,
   "metadata": {},
   "outputs": [],
   "source": [
    "# Plot the trajectories for a given choice of parameters\n",
    "N=20\n",
    "n=5000\n",
    "a=1\n",
    "b=0.1\n",
    "Y=Gauss(a,b,N,n)\n",
    "\n",
    "plt.figure(figsize=(15,5))\n",
    "plt.plot(Y.T)\n",
    "plt.title(\"Trajectories of sum of Gaussian r.v.'s with b>0\")\n",
    "\n",
    "plt.ylabel(\"a*S_n-bn\")\n",
    "plt.xlabel(\"n\")\n",
    "plt.show()"
   ]
  },
  {
   "cell_type": "code",
   "execution_count": null,
   "metadata": {},
   "outputs": [],
   "source": [
    "# Plot the exponential of these trajectories\n",
    "Z=np.exp(Y)\n",
    "\n",
    "plt.figure(figsize=(15,5))\n",
    "plt.plot(Z.T)\n",
    "plt.title(\"Trajectories of the exponential of the sum of Gaussian r.v.'s with b>0\")\n",
    "\n",
    "plt.ylabel(\"exp(a*S_n-bn)\")\n",
    "plt.xlabel(\"n\")\n",
    "plt.show()"
   ]
  },
  {
   "cell_type": "code",
   "execution_count": null,
   "metadata": {},
   "outputs": [],
   "source": [
    "# Plot the trajectories for a given choice of parameters\n",
    "N=20\n",
    "n=5000\n",
    "a=1\n",
    "b=-0.1\n",
    "Y=Gauss(a,b,N,n)\n",
    "\n",
    "plt.figure(figsize=(15,5))\n",
    "plt.plot(Y.T)\n",
    "plt.title(\"Trajectories of sum of Gaussian r.v.'s with b<0\")\n",
    "\n",
    "plt.ylabel(\"a*S_n-bn\")\n",
    "plt.xlabel(\"n\")\n",
    "plt.show()"
   ]
  },
  {
   "cell_type": "code",
   "execution_count": null,
   "metadata": {},
   "outputs": [],
   "source": [
    "# Plot the exponential of these trajectories\n",
    "Z=np.exp(Y)\n",
    "\n",
    "plt.figure(figsize=(15,5))\n",
    "plt.plot(Z.T)\n",
    "plt.title(\"Trajectories of the exponential of the sum of Gaussian r.v.'s with b<0\")\n",
    "\n",
    "plt.ylabel(\"exp(a*S_n-bn)\")\n",
    "plt.xlabel(\"n\")\n",
    "plt.show()"
   ]
  },
  {
   "cell_type": "code",
   "execution_count": null,
   "metadata": {},
   "outputs": [],
   "source": [
    "# Plot the trajectories for a given choice of parameters\n",
    "N=20\n",
    "n=5000\n",
    "a=1\n",
    "b=0\n",
    "Y=Gauss(a,b,N,n)\n",
    "\n",
    "plt.figure(figsize=(15,5))\n",
    "plt.plot(Y.T)\n",
    "plt.title(\"Trajectories of sum of Gaussian r.v.'s with b<0\")\n",
    "\n",
    "plt.ylabel(\"a*S_n-bn\")\n",
    "plt.xlabel(\"n\")\n",
    "plt.show()"
   ]
  },
  {
   "cell_type": "code",
   "execution_count": null,
   "metadata": {},
   "outputs": [],
   "source": [
    "# Plot the exponential of these trajectories\n",
    "Z=np.exp(Y)\n",
    "\n",
    "plt.figure(figsize=(15,5))\n",
    "plt.plot(Z.T)\n",
    "plt.title(\"Trajectories of the exponential of the sum of Gaussian r.v.'s with b<0\")\n",
    "\n",
    "plt.ylabel(\"exp(a*S_n-bn)\")\n",
    "plt.xlabel(\"n\")\n",
    "plt.show()"
   ]
  },
  {
   "cell_type": "markdown",
   "metadata": {},
   "source": [
    "## Product of r.v.'s"
   ]
  },
  {
   "cell_type": "code",
   "execution_count": null,
   "metadata": {},
   "outputs": [],
   "source": [
    "# Sample N trajectories of X_1*...*X_n where X_i=a or X_i=n with proba 1/2\n",
    "def prod_coin(a,b,N,n):\n",
    "    U=(b-a)*rd.binomial(1, 1/2, size=(N,n))+a\n",
    "    return np.cumprod(U,axis=1)"
   ]
  },
  {
   "cell_type": "code",
   "execution_count": null,
   "metadata": {},
   "outputs": [],
   "source": [
    "N=20\n",
    "n=1000\n",
    "a=.8\n",
    "b=1.2\n",
    "X=prod_coin(a,b,N,n)\n",
    "\n",
    "plt.figure(figsize=(15,5))\n",
    "plt.plot(X.T)\n",
    "\n",
    "plt.show()"
   ]
  },
  {
   "cell_type": "code",
   "execution_count": null,
   "metadata": {},
   "outputs": [],
   "source": [
    "Y=np.log(X)\n",
    "\n",
    "plt.figure(figsize=(15,5))\n",
    "plt.plot(Y.T)\n",
    "\n",
    "plt.show()"
   ]
  },
  {
   "cell_type": "code",
   "execution_count": null,
   "metadata": {},
   "outputs": [],
   "source": [
    "N=20\n",
    "n=1000\n",
    "a=.8\n",
    "b=1.4\n",
    "X=prod_coin(a,b,N,n)\n",
    "\n",
    "plt.figure(figsize=(15,5))\n",
    "plt.plot(X.T)\n",
    "\n",
    "plt.show()"
   ]
  },
  {
   "cell_type": "code",
   "execution_count": null,
   "metadata": {},
   "outputs": [],
   "source": [
    "Y=np.log(X)\n",
    "\n",
    "plt.figure(figsize=(15,5))\n",
    "plt.plot(Y.T)\n",
    "\n",
    "plt.show()"
   ]
  },
  {
   "cell_type": "code",
   "execution_count": null,
   "metadata": {},
   "outputs": [],
   "source": []
  }
 ],
 "metadata": {
  "kernelspec": {
   "display_name": "Python 3",
   "language": "python",
   "name": "python3"
  },
  "language_info": {
   "codemirror_mode": {
    "name": "ipython",
    "version": 3
   },
   "file_extension": ".py",
   "mimetype": "text/x-python",
   "name": "python",
   "nbconvert_exporter": "python",
   "pygments_lexer": "ipython3",
   "version": "3.8.3"
  }
 },
 "nbformat": 4,
 "nbformat_minor": 4
}
