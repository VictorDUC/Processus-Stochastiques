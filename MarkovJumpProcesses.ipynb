{
 "cells": [
  {
   "cell_type": "markdown",
   "metadata": {},
   "source": [
    "Ecole Polytechnique, 2022_2023"
   ]
  },
  {
   "cell_type": "markdown",
   "metadata": {},
   "source": [
    "# TP1 - Markov Processes"
   ]
  },
  {
   "cell_type": "markdown",
   "metadata": {},
   "source": [
    "A few reminders in python:\n",
    "\n",
    "-random.exponential from the numpy module. For simulating exponential random variables (be carfeul with parameters).\n",
    "\n",
    "-random.poisson from the numpy module. For simulating Poisson random variables.\n",
    "\n",
    "-poisson.sf from the scipy.stats module. For the survival function of a Poisson random variable.\n",
    "\n",
    "-cumsum from the numpy module. For computing the cumulative sum of elements in an array.\n",
    "\n",
    "-sort from the numpy module. For sorting the elements of an array."
   ]
  },
  {
   "cell_type": "code",
   "execution_count": null,
   "metadata": {},
   "outputs": [],
   "source": [
    "import numpy as np\n",
    "import scipy as sc\n",
    "import scipy.stats as scs\n",
    "import matplotlib.pyplot as plt\n",
    "from numpy import zeros, cumsum, arange, append\n",
    "from numpy.random import poisson, rand, exponential\n",
    "from matplotlib.pyplot import figure, step, title, legend"
   ]
  },
  {
   "cell_type": "markdown",
   "metadata": {},
   "source": [
    "## 1. Poisson process"
   ]
  },
  {
   "cell_type": "markdown",
   "metadata": {},
   "source": [
    "### 1.1. Reminders: Poisson Processes\n",
    "\n",
    "Let $\\lambda > 0$.\n",
    "A <b>homogeneous Poisson process with parameter $\\lambda$</b> is a process\n",
    "$(N_t)_{t\\geq 0}$ starting from 0, with independent increments, such that for any\n",
    "$0 \\leq s < t$, $N_t-N_s$ follows a Poisson distribution with parameter $\\lambda(t-s)$.\n",
    "\n",
    "This process can be obtained by setting\n",
    "$$N_t = \\textrm{Card}\\{k\\geq 1~: T_k\\leq t\\} = \\sum_{k \\geq 1} \\mathbf{1}_{T_k \\leq t};$$\n",
    "by convention, $T_0 =0$ and for all $k \\geq 1$, $T_k= T_{k-1} + E_k$, for i.i.d. random variables $(E_i)_{i \\geq 1}$ with exponential distribution with parameter $\\lambda$: the times between jumps $(T_k - T_{k-1})_{k \\geq 1}$ are i.i.d. with exponential distribution with parameter $\\lambda$.\n"
   ]
  },
  {
   "cell_type": "markdown",
   "metadata": {},
   "source": [
    "### 1.2. Simulation of homogeneous Poisson process"
   ]
  },
  {
   "cell_type": "markdown",
   "metadata": {},
   "source": [
    "##### Simulation of the path $(N_{t})_{t \\in [0,T]}$ using exponential $r.v.$\n",
    "\n",
    "1.Using only the simulation of exponential random variables, similate the path of $(N_{t})_{t \\in [0,T]}$ for $T>0$. "
   ]
  },
  {
   "cell_type": "code",
   "execution_count": null,
   "metadata": {},
   "outputs": [],
   "source": [
    "###############################################################################\n",
    "## Simulation until T\n",
    "###############################################################################\n",
    "# This function return the two table events and jump. \n",
    "#\"events\" stores the jump times Tn and add a jump time at time T\n",
    "#\"jumps\" stores the the position of the Poisson process after the jump. The last jump at time T has size 0\n",
    "###############################################################################\n",
    "\n",
    "def homogeneous_poisson_exp(lamb,T):    \n",
    "    scale = 1. / lamb\n",
    "    #E stores the interjump exponential times\n",
    "    #For the last term at time 0\n",
    "    E=[0]\n",
    "    while ?? :\n",
    "        E.append(np.random.exponential(scale))\n",
    "    #For the last term at time T, we add an artificial jump of size 0\n",
    "    E[np.size(E)-1]=T-np.cumsum(E)[-2]\n",
    "    events = ??\n",
    "    jumps = ??\n",
    "    #For the last term at time T\n",
    "    jumps[np.size(E)-1]=jumps[np.size(E)-2]\n",
    "    return events, jumps\n",
    "\n",
    "lamb = 3\n",
    "T=2\n",
    "\n",
    "events, jumps = homogeneous_poisson_exp(lamb, T)\n",
    "step(events, jumps, where=\"post\", label=\"Processus de Poisson sur [0,\"+ str(T)+\"]\", linewidth=2.0)\n",
    "title(\"Processus de Poisson homogène d'intensité \" + str(lamb), fontsize=12)\n",
    "legend(loc=\"best\")"
   ]
  },
  {
   "cell_type": "markdown",
   "metadata": {},
   "source": [
    "##### Simulation of the path $(N_{t})_{t \\in [0,T]}$ using Poisson and uniform $r.v.$\n",
    "\n",
    "2.Using only the simulation of uniform and Poisson random variables, simulate the path of $(N_{t})_{t \\in [0,T]}$ for $T>0$. "
   ]
  },
  {
   "cell_type": "code",
   "execution_count": null,
   "metadata": {},
   "outputs": [],
   "source": [
    "###############################################################################\n",
    "## Simulation until T\n",
    "###############################################################################\n",
    "# This function return the two table events and jump. \n",
    "#\"events\" stores the jump times Tn and add a jump time at time T\n",
    "#\"jumps\" stores the position of the Poisson process after the jump. The last jump at time T has size 0\n",
    "###############################################################################\n",
    "\n",
    "def homogeneous_poisson_unif(lamb, T):\n",
    "    ??\n",
    "    return events, jumps\n",
    "\n",
    "\n",
    "#print(homogeneous_poisson_exp(lamb, 2))\n",
    "lamb = 2.4\n",
    "T=10\n",
    "events, jumps = homogeneous_poisson_unif(lamb, T)\n",
    "step(events, jumps, where=\"post\", label=\"Processus de Poisson sur [0,\"+ str(T)+\"]\", linewidth=2.0)\n",
    "title(\"Processus de Poisson homogène d'intensité \" + str(lamb), fontsize=12)\n",
    "legend(loc=\"best\")\n"
   ]
  },
  {
   "cell_type": "code",
   "execution_count": null,
   "metadata": {},
   "outputs": [],
   "source": [
    "###############################################################################\n",
    "## Simulation of the two Poisson processes\n",
    "###############################################################################\n",
    "lamb = 3\n",
    "T=1\n",
    "events, jumps = homogeneous_poisson_unif(lamb, T)\n",
    "step(events, jumps, where=\"post\", label=\"Processus de Poisson par temps expo sur [0,\"+ str(T)+\"]\", linewidth=2.0)\n",
    "title(\"Processus de Poisson homogène d'intensité \" + str(lamb), fontsize=12)\n",
    "legend(loc=\"best\")\n",
    "\n",
    "events, jumps = homogeneous_poisson_exp(lamb, T)\n",
    "step(events, jumps, where=\"post\", label=\"Processus de Poisson sur [0,\"+ str(T)+\"]\", linewidth=2.0)\n",
    "title(\"Processus de Poisson homogène d'intensité \" + str(lamb), fontsize=12)\n",
    "legend(loc=\"best\")\n",
    "\n",
    "print(np.size(events)-1)"
   ]
  },
  {
   "cell_type": "markdown",
   "metadata": {},
   "source": [
    "##### Illustration of the CLT satisfied by $(N_{t})_{t \\in [0,T]}$.\n",
    "\n",
    "3. Using the simulation of the previous question, illustrate the CLT satisfied by $(N_{t})_{t \\geqslant 0}$. Draw a histogram of M sampled values of $\\frac{N_{T}-\\lambda T}{\\sqrt{\\lambda T}}$ for a large fixed $T$. Compare those empirical distributions with the standard Gaussian distribution."
   ]
  },
  {
   "cell_type": "code",
   "execution_count": null,
   "metadata": {},
   "outputs": [],
   "source": [
    "###############################################################################\n",
    "## Illustration of the CLT (taking T large)\n",
    "###############################################################################\n",
    "#Returns a vector with M iid samples of the renormalized Poisson(lamb) process  at time T\n",
    "###############################################################################\n",
    "\n",
    "def vector_CLT_expo(M,lamb, T):\n",
    "    E=[]\n",
    "    ??\n",
    "    return E\n",
    "\n",
    "def vector_CLT_unif(M,lamb, T):\n",
    "    E=[]\n",
    "    ??\n",
    "    return E\n",
    "\n",
    "M=1000\n",
    "lamb=1\n",
    "T=100\n",
    "\n",
    "figure(1)\n",
    "A=vector_CLT_expo(M,lamb, T)\n",
    "plt.hist(A, bins=int(np.sqrt(M)), histtype=\"step\", density=True, color=\"blue\")\n",
    "\n",
    "A=vector_CLT_unif(M,lamb, T)\n",
    "plt.hist(A, bins=int(np.sqrt(M)), histtype=\"step\", density=True, color=\"red\")\n",
    "\n",
    "\n",
    "# We draw a Gaussian (0,1)\n",
    "x = np.linspace(np.min(A), np.max(A), 1000)\n",
    "plt.plot(x, sc.stats.norm.pdf(x,loc=0, scale=1),\"b--\")"
   ]
  },
  {
   "cell_type": "markdown",
   "metadata": {},
   "source": [
    "##### Illustration of the CLT satisfied by $(N_{t})_{t \\in [0,T]}$.\n",
    "\n",
    "4. Using the simulation of the previous question, illustrate the CLT satisfied by $(N_{t})_{t \\geqslant 0}$. Draw a histogram of M sampled values of $\\frac{N_{T}-\\lambda T}{\\sqrt{\\lambda T}}$ for different values of $T$. Compare those empirical distributions with the standard Gaussian distribution."
   ]
  },
  {
   "cell_type": "code",
   "execution_count": null,
   "metadata": {},
   "outputs": [],
   "source": [
    "###############################################################################\n",
    "## Making T varying\n",
    "###############################################################################\n",
    "\n",
    "M=5000\n",
    "lamb=1\n",
    "vect_T=[2,10,100]\n",
    "\n",
    "\n",
    "figure(1)\n",
    "for T in vect_T:\n",
    "    ??   \n",
    "    figure(T+1)"
   ]
  },
  {
   "cell_type": "markdown",
   "metadata": {},
   "source": [
    "## 2. The Telgraph process"
   ]
  },
  {
   "cell_type": "markdown",
   "metadata": {},
   "source": [
    "##### Definition of the Telegraph process\n",
    "Let $(N_{t})_{t \\in \\mathbb{R}_{+}}$ be a Poisson process with intensity $\\lambda>0$.\n",
    " Let us introduce the Telegraph process $(X_{t})_{t \\in \\mathbb{R}_{+}}$ defined for every $t \\in \\mathbb{R}_{+}$ by\n",
    " \n",
    "\\begin{align*}\n",
    "X_{t}=X_{0}(-1)^{N_{t}}.\n",
    "\\end{align*}\n",
    "\n",
    "with $X_{0}$ a $r.v.$ independent from $(N_{t})_{t \\in \\mathbb{R}_{+}}$ and taking values in $E=\\{-1,1\\}$. \n",
    "\n",
    "We introduce the uniform distribution $\\mu$ on $E$."
   ]
  },
  {
   "cell_type": "markdown",
   "metadata": {},
   "source": [
    "##### The Telegraph process\n",
    "4. Propose a simulation method for the Telegraph process involving the preceding simulations of the Poisson process."
   ]
  },
  {
   "cell_type": "code",
   "execution_count": null,
   "metadata": {
    "scrolled": true
   },
   "outputs": [],
   "source": [
    "###############################################################################\n",
    "## Simuation of the Telegraph process\n",
    "###############################################################################\n",
    "\n",
    "#Using the exponential method for the simulation of N_T\n",
    "def telegraph_exp(lamb,T,x0):\n",
    "    ??\n",
    "    return events, jumps\n",
    "\n",
    "lamb = 3\n",
    "T=2\n",
    "\n",
    "events, jumps = telegraph_exp(lamb, T,1)\n",
    "step(events, jumps, where=\"post\", label=\"Telegraph process on [0,\"+ str(T)+\"]\", linewidth=2.0)\n",
    "title(\"Telegraph process with intensity \" + str(lamb), fontsize=12)\n",
    "legend(loc=\"best\")"
   ]
  },
  {
   "cell_type": "markdown",
   "metadata": {},
   "source": [
    "##### The Telegraph process\n",
    "\n",
    "5. We aim to illustrate numerically the fact that\n",
    "\\begin{align*}\n",
    " \\sum_{x \\in E}\\vert \\mathbb{P}(X_{t}=x)- \\mu(x)   \\vert  \\leqslant C \\exp(- \\gamma t).\n",
    "\\end{align*} "
   ]
  },
  {
   "cell_type": "markdown",
   "metadata": {},
   "source": [
    "5.a. Propose a Monte Carlo approximation of $ \\mathbb{P}_{x_{0}}(X_{t}=x)$."
   ]
  },
  {
   "cell_type": "code",
   "execution_count": null,
   "metadata": {},
   "outputs": [],
   "source": [
    "###############################################################################\n",
    "## Illustration of the exponential convergence\n",
    "###############################################################################\n",
    "#This function returns the Monte Carlo estimator at time T for M samples\n",
    "###############################################################################\n",
    "def LLN_Prob_Tele(M,lamb, T,x0,x):\n",
    "    E=0\n",
    "    ??\n",
    "    return E\n",
    "\n",
    "x0=1\n",
    "x=1\n",
    "lamb=0.3\n",
    "T=20\n",
    "M=5000\n",
    "print(LLN_Prob_Tele(M,lamb, T,x0,x))"
   ]
  },
  {
   "cell_type": "markdown",
   "metadata": {},
   "source": [
    "5.b. Draw the logarithm of $\\sum_{x \\in E}\\vert \\mathbb{P}_{x_{0}}(X_{t}=x)- \\mu(x)   \\vert $ with respect to the time for a choosen $x_{0} \\in E$. Comment. \n",
    "\n",
    "Change the initial value and comment the result."
   ]
  },
  {
   "cell_type": "code",
   "execution_count": null,
   "metadata": {},
   "outputs": [],
   "source": [
    "###############################################################################\n",
    "## Illustration of the exponential convergence\n",
    "###############################################################################\n",
    "\n",
    "def vector_ln_err(M,lamb, vect_T,x0):\n",
    "    Err=[]\n",
    "    for T in vect_T:\n",
    "        err_curr= ??\n",
    "        Err.append(np.log(err_curr))\n",
    "    return Err\n",
    "\n",
    "\n",
    "M=5000\n",
    "lamb=0.2\n",
    "vect_T=[1,2,3,5,7,10]\n",
    "x0=-1\n",
    "error=vector_ln_err(M,lamb, vect_T,x0)\n",
    "plt.plot(vect_T, error, label=\"Logarithm of the error\")\n",
    "title(\"Telegraph process L1 convergence x0=\"+ str(x0), fontsize=12)\n",
    "legend(loc=\"best\")\n"
   ]
  }
 ],
 "metadata": {
  "kernelspec": {
   "display_name": "Python 3 (ipykernel)",
   "language": "python",
   "name": "python3"
  },
  "language_info": {
   "codemirror_mode": {
    "name": "ipython",
    "version": 3
   },
   "file_extension": ".py",
   "mimetype": "text/x-python",
   "name": "python",
   "nbconvert_exporter": "python",
   "pygments_lexer": "ipython3",
   "version": "3.9.13"
  }
 },
 "nbformat": 4,
 "nbformat_minor": 2
}
