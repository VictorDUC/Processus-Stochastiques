{
 "cells": [
  {
   "cell_type": "markdown",
   "metadata": {},
   "source": [
    "# Ex sheet 1: simulation of random variables"
   ]
  },
  {
   "cell_type": "code",
   "execution_count": null,
   "metadata": {},
   "outputs": [],
   "source": [
    "import math\n",
    "import numpy as np\n",
    "import matplotlib.pyplot as plt\n",
    "import numpy.random as rd"
   ]
  },
  {
   "cell_type": "markdown",
   "metadata": {},
   "source": [
    "## The inversion method"
   ]
  },
  {
   "cell_type": "markdown",
   "metadata": {},
   "source": [
    "### Generate exponential and geometric r.v.'s"
   ]
  },
  {
   "cell_type": "code",
   "execution_count": null,
   "metadata": {},
   "outputs": [],
   "source": [
    "### Generate exponential distributed random variables given the mean and number of random variables\n",
    "def exponential_inverse_trans(n=1,mean=1):\n",
    "    U=rd.uniform(size=n)\n",
    "    X=-mean*np.log(1-U)\n",
    "    actual=rd.exponential(size=n,scale=mean)\n",
    "    \n",
    "    plt.figure(figsize=(14,6))\n",
    "    plt.hist(X, bins=50, alpha=0.5, label=\"Generated r.v.\")\n",
    "    plt.hist(actual, bins=50, alpha=0.5, label=\"Actual r.v.\")\n",
    "    plt.title(\"Generated vs Actual %i Exponential Random Variables\" %n)\n",
    "    plt.legend()\n",
    "    plt.show()\n",
    "    return X"
   ]
  },
  {
   "cell_type": "code",
   "execution_count": null,
   "metadata": {},
   "outputs": [],
   "source": [
    "expo_example1=exponential_inverse_trans(n=1000,mean=1)\n",
    "expo_example2=exponential_inverse_trans(n=10000,mean=1)\n",
    "expo_example3=exponential_inverse_trans(n=100000,mean=1)"
   ]
  },
  {
   "cell_type": "code",
   "execution_count": null,
   "metadata": {},
   "outputs": [],
   "source": [
    "### Generate geometric distributed random variables given the parameter and number of random variables\n",
    "def geometric_inverse_trans(n=1,param=0.5):\n",
    "    U=rd.uniform(size=n)\n",
    "    X=np.ceil(np.log(1-U)/np.log(1-param))\n",
    "    actual=rd.geometric(p=param, size=n)\n",
    "    \n",
    "    plt.figure(figsize=(14,6))\n",
    "    plt.hist(X, alpha=0.5, label=\"Generated r.v.\")\n",
    "    plt.hist(actual, alpha=0.5, label=\"Actual r.v.\")\n",
    "    plt.title(\"Generated vs Actual %i Geometric Random Variables\" %n)\n",
    "    plt.legend()\n",
    "    plt.show()\n",
    "    return X"
   ]
  },
  {
   "cell_type": "code",
   "execution_count": null,
   "metadata": {},
   "outputs": [],
   "source": [
    "geom_example1=geometric_inverse_trans(n=1000,param=0.25)\n",
    "geom_example2=geometric_inverse_trans(n=10000,param=0.5)\n",
    "geom_example3=geometric_inverse_trans(n=100000,param=0.75)"
   ]
  },
  {
   "cell_type": "markdown",
   "metadata": {},
   "source": [
    "## Generate r.v.'s with a density using the rejection method"
   ]
  },
  {
   "cell_type": "code",
   "execution_count": null,
   "metadata": {},
   "outputs": [],
   "source": [
    "# Define the rejection method that returns a r.v. with the density wanted ≤ Cst*reference and the number of trials\n",
    "def rejection_method(wanted,reference,Cst):\n",
    "    res=np.zeros(2)\n",
    "    while True:\n",
    "        res[1]+=1\n",
    "        X=rd.exponential(size=1,scale=1) # Rem: here we use that we know how to sample from our density reference\n",
    "        U=rd.uniform(low=0, high=Cst*reference(X))\n",
    "        if U < wanted(X) :\n",
    "            res[0]=X\n",
    "            return res\n",
    "\n",
    "# Sample n i.i.d. r.'v.'s with this method\n",
    "def sample_reject(wanted,reference,Cst,n=1):\n",
    "    sample=[]\n",
    "    trials=[]\n",
    "    res=np.zeros((2,n))\n",
    "    for i in range(n):\n",
    "        temp=rejection_method(wanted,reference,Cst)\n",
    "        sample.append(temp[0])\n",
    "        trials.append(temp[1])\n",
    "    res[0]=sample\n",
    "    res[1]=trials\n",
    "    return res"
   ]
  },
  {
   "cell_type": "code",
   "execution_count": null,
   "metadata": {},
   "outputs": [],
   "source": [
    "# Define the reference density function, here a standard exponential\n",
    "def density_reference(x):\n",
    "    return np.exp(-x)\n",
    "\n",
    "# Define the density function we want to simulate, here the absolute value of a standard Gaussian\n",
    "def density_wanted(x):\n",
    "    return math.sqrt(2/math.pi)*np.exp(-x**2/2)\n",
    "\n",
    "# Define the constant that will give the average number of trials\n",
    "cst=np.sqrt(2*math.e/math.pi)\n",
    "\n",
    "# Plot the wanted density\n",
    "xs = np.linspace(0, 5, 1000)\n",
    "ys = density_wanted(xs)\n",
    "\n",
    "plt.figure(figsize=(14,6))\n",
    "plt.plot(xs, ys, label=\"Wanted density\") \n",
    "plt.fill_between(xs, ys, 0, alpha=0.2)\n",
    "plt.xlabel(\"x\"), plt.ylabel(\"y\"), plt.legend();"
   ]
  },
  {
   "cell_type": "code",
   "execution_count": null,
   "metadata": {},
   "outputs": [],
   "source": [
    "n=1000\n",
    "temp = sample_reject(density_wanted,density_reference,cst,n)\n",
    "samps = temp[0]\n",
    "trials = temp[1]\n",
    "actual = np.abs(rd.normal(0,1,size=n))\n",
    "\n",
    "np.mean(trials)\n",
    "# Theory says sqrt(2e/pi), approx. 1.32"
   ]
  },
  {
   "cell_type": "code",
   "execution_count": null,
   "metadata": {},
   "outputs": [],
   "source": [
    "n=100000\n",
    "temp = sample_reject(density_wanted,density_reference,cst,n)\n",
    "samps = temp[0]\n",
    "trials = temp[1]\n",
    "actual=np.abs(rd.normal(0,1,size=n))\n",
    "\n",
    "plt.figure(figsize=(14,6))\n",
    "plt.plot(xs, ys, label=\"Density function\")\n",
    "plt.hist(samps, bins=100, density=True, alpha=0.5, label=\"Sample distribution\")\n",
    "# plt.hist(actual, bins=100, density=True, alpha=0.5, label=\"Actual distribution\")\n",
    "plt.legend();"
   ]
  },
  {
   "cell_type": "code",
   "execution_count": null,
   "metadata": {},
   "outputs": [],
   "source": [
    "# Directly sample n i.i.d. r.'v.'s with the density wanted ≤ Cst*reference\n",
    "\n",
    "def batch_rejection_method(wanted,reference,Cst, num_samples, n=1):\n",
    "    samples = []\n",
    "    while len(samples) < num_samples:\n",
    "        X=rd.exponential(scale=1, size=n) \n",
    "        # Rem: here we use that we know how to sample from our density_reference\n",
    "        U=rd.uniform(low=0, high=Cst*reference(X), size=n)\n",
    "        samples += X[U < wanted(X)].tolist()\n",
    "    return samples[:num_samples]"
   ]
  },
  {
   "cell_type": "code",
   "execution_count": null,
   "metadata": {},
   "outputs": [],
   "source": [
    "n=100000\n",
    "samps = batch_rejection_method(density_wanted,density_reference,cst,n)\n",
    "actual=np.abs(rd.normal(0,1,size=n))\n",
    "\n",
    "plt.figure(figsize=(14,6))\n",
    "plt.plot(xs, ys, label=\"Density function\")\n",
    "plt.hist(samps, bins=100, density=True, alpha=0.5, label=\"Sample distribution\")\n",
    "plt.hist(actual, bins=100, density=True, alpha=0.5, label=\"Actual distribution\")\n",
    "plt.legend();"
   ]
  },
  {
   "cell_type": "markdown",
   "metadata": {},
   "source": [
    "# Box-Müller for sampling Gaussian r.v.'s"
   ]
  },
  {
   "cell_type": "code",
   "execution_count": null,
   "metadata": {},
   "outputs": [],
   "source": [
    "# Define the radius, with the exponential law(1/2) and anlge, uniform(0,2*pi)\n",
    "def rad(n=1):\n",
    "    return np.sqrt(rd.exponential(scale=2, size=n))\n",
    "\n",
    "def ang(n=1):\n",
    "    return rd.uniform(low=0, high=2*math.pi, size=n)"
   ]
  },
  {
   "cell_type": "code",
   "execution_count": null,
   "metadata": {},
   "outputs": [],
   "source": [
    "# Define the Gaussian density function we want to simulate\n",
    "def gaussian(x):\n",
    "    return 1/math.sqrt(2*math.pi)*np.exp(-x**2/2)\n",
    "\n",
    "xs = np.linspace(-5, 5, 1000)\n",
    "ys = gaussian(xs)\n",
    "\n",
    "plt.figure(figsize=(6,6))\n",
    "plt.plot(xs, ys, label=\"Gaussian density\") \n",
    "plt.fill_between(xs, ys, 0, alpha=0.2)\n",
    "plt.legend();"
   ]
  },
  {
   "cell_type": "code",
   "execution_count": null,
   "metadata": {},
   "outputs": [],
   "source": [
    "n=100000\n",
    "X=np.multiply(rad(n),np.cos(ang(n)))\n",
    "Y=np.multiply(rad(n),np.sin(ang(n)))\n",
    "\n",
    "plt.figure(figsize=(16,6))\n",
    "plt.subplot(1, 2, 1)\n",
    "plt.plot(xs, ys, label=\"Gaussian density\")\n",
    "plt.hist(X, bins=100, density=True, alpha=0.5, label=\"Sample of X's\")\n",
    "plt.legend();\n",
    "\n",
    "plt.subplot(1, 2, 2)\n",
    "plt.plot(xs, ys, label=\"Gaussian density\")\n",
    "plt.hist(Y, bins=100, density=True, alpha=0.5, label=\"Sample of Y's\", color = 'g')\n",
    "plt.legend();"
   ]
  }
 ],
 "metadata": {
  "kernelspec": {
   "display_name": "Python 3",
   "language": "python",
   "name": "python3"
  },
  "language_info": {
   "codemirror_mode": {
    "name": "ipython",
    "version": 3
   },
   "file_extension": ".py",
   "mimetype": "text/x-python",
   "name": "python",
   "nbconvert_exporter": "python",
   "pygments_lexer": "ipython3",
   "version": "3.8.3"
  }
 },
 "nbformat": 4,
 "nbformat_minor": 4
}
